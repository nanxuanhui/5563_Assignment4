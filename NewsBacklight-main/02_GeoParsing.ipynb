{
 "cells": [
  {
   "cell_type": "markdown",
   "metadata": {},
   "source": [
    "# Getting started with geoparsing libraries\n",
    "\n"
   ]
  },
  {
   "cell_type": "markdown",
   "metadata": {},
   "source": [
    "__Imports__"
   ]
  },
  {
   "cell_type": "code",
   "execution_count": 1,
   "metadata": {},
   "outputs": [],
   "source": [
    "try:\n",
    "    import geopandas\n",
    "except:\n",
    "    !pip install geopandas\n"
   ]
  },
  {
   "cell_type": "code",
   "execution_count": 2,
   "metadata": {},
   "outputs": [],
   "source": [
    "try:\n",
    "    import geotext\n",
    "except:\n",
    "    !pip install geotext\n"
   ]
  },
  {
   "cell_type": "code",
   "execution_count": 3,
   "metadata": {},
   "outputs": [],
   "source": [
    "try:\n",
    "    import geopy\n",
    "except:\n",
    "    !pip install geopy\n"
   ]
  },
  {
   "cell_type": "code",
   "execution_count": 4,
   "metadata": {},
   "outputs": [],
   "source": [
    "try:\n",
    "    import descartes\n",
    "except:\n",
    "    !pip install descartes\n"
   ]
  },
  {
   "cell_type": "code",
   "execution_count": 5,
   "metadata": {},
   "outputs": [
    {
     "name": "stdout",
     "output_type": "stream",
     "text": [
      "Collecting geonamescache\n",
      "  Downloading geonamescache-1.2.0-py3-none-any.whl (2.6 MB)\n",
      "\u001b[K     |████████████████████████████████| 2.6 MB 1.1 MB/s eta 0:00:01\n",
      "\u001b[?25hInstalling collected packages: geonamescache\n",
      "Successfully installed geonamescache-1.2.0\n",
      "\u001b[33mWARNING: You are using pip version 20.2.4; however, version 20.3.1 is available.\n",
      "You should consider upgrading via the '/Users/eva/anaconda3/bin/python -m pip install --upgrade pip' command.\u001b[0m\n"
     ]
    }
   ],
   "source": [
    "try:\n",
    "    import geonamescache\n",
    "except:\n",
    "    !pip install geonamescache"
   ]
  },
  {
   "cell_type": "code",
   "execution_count": 6,
   "metadata": {},
   "outputs": [],
   "source": [
    "import numpy as np\n",
    "import matplotlib.pyplot as plt\n",
    "%matplotlib inline\n",
    "\n",
    "import pandas as pd\n",
    "import geopandas as gpd\n",
    "\n",
    "from urllib import request\n",
    "from geotext import GeoText\n",
    "\n",
    "from geopy.geocoders import Nominatim\n",
    "from geopy.exc import GeocoderTimedOut\n",
    "\n",
    "from shapely.geometry import Point, Polygon\n",
    "import descartes\n",
    "\n",
    "import geonamescache"
   ]
  },
  {
   "cell_type": "markdown",
   "metadata": {},
   "source": [
    "__GeoNamesCache__"
   ]
  },
  {
   "cell_type": "code",
   "execution_count": 7,
   "metadata": {},
   "outputs": [
    {
     "name": "stdout",
     "output_type": "stream",
     "text": [
      "[{'2988507': {'geonameid': 2988507, 'name': 'Paris', 'latitude': 48.85341, 'longitude': 2.3488, 'countrycode': 'FR', 'population': 2138551, 'timezone': 'Europe/Paris', 'admin1code': '11', 'alternatenames': ['Baariis', 'Bahliz', 'Ile-de-France', 'Lungsod ng Paris', 'Lutece', 'Lutetia', 'Lutetia Parisorum', 'Lutèce', 'PAR', 'Pa-ri', 'Paarys', 'Palika', 'Paname', 'Pantruche', 'Paraeis', 'Paras', 'Pari', 'Paries', 'Parigge', 'Pariggi', 'Parighji', 'Parigi', 'Pariis', 'Pariisi', 'Pariizu', 'Pariižu', 'Parij', 'Parijs', 'Paris', 'Parisi', 'Parixe', 'Pariz', 'Parize', 'Parizh', 'Parizh osh', \"Parizh'\", 'Parizo', 'Parizs', 'Pariž', 'Parys', 'Paryz', 'Paryzh', 'Paryzius', 'Paryż', 'Paryžius', 'Paräis', 'París', 'Paríž', 'Parîs', 'Parĩ', 'Parī', 'Parīze', 'Paříž', 'Páras', 'Párizs', 'Ville-Lumiere', 'Ville-Lumière', 'ba li', 'barys', 'pairisa', 'pali', 'pari', 'paris', 'parys', 'paryzh', 'perisa', 'pryz', 'pyaris', 'pyarisa', 'pyrs', 'Île-de-France', 'Παρίσι', 'Париж', 'Париж ош', 'Парижь', 'Париз', 'Парис', 'Парыж', 'Паріж', 'Փարիզ', 'פאריז', 'פריז', 'باريس', 'پارىژ', 'پاريس', 'پاریس', 'پیرس', 'ܦܐܪܝܣ', 'पॅरिस', 'पेरिस', 'पैरिस', 'প্যারিস', 'ਪੈਰਿਸ', 'પૅરિસ', 'பாரிஸ்', 'పారిస్', 'ಪ್ಯಾರಿಸ್', 'പാരിസ്', 'ปารีส', 'ཕ་རི།', 'ပါရီမြို့', 'პარიზი', 'ፓሪስ', 'ប៉ារីស', 'パリ', '巴黎', '파리']}}, {'4717560': {'geonameid': 4717560, 'name': 'Paris', 'latitude': 33.66094, 'longitude': -95.55551, 'countrycode': 'US', 'population': 24782, 'timezone': 'America/Chicago', 'admin1code': 'TX', 'alternatenames': ['PRX', 'Paris', 'Parizh', 'barys', 'parys  tgzas', 'Париж', 'Парис', 'Փարիզ', 'باريس', 'پاریس، تگزاس', 'پیرس، ٹیکساس']}}]\n"
     ]
    }
   ],
   "source": [
    "## test geonamescache ##\n",
    "\n",
    "gc = geonamescache.GeonamesCache()\n",
    "\n",
    "# town\n",
    "paris = gc.get_cities_by_name(\"Paris\")\n",
    "print(paris) "
   ]
  },
  {
   "cell_type": "markdown",
   "metadata": {},
   "source": [
    "Provides 2 possibilities: Paris, France and Paris, US ! Idea : by default retrieve only the first possibility ?"
   ]
  },
  {
   "cell_type": "code",
   "execution_count": 12,
   "metadata": {
    "scrolled": true
   },
   "outputs": [
    {
     "name": "stdout",
     "output_type": "stream",
     "text": [
      "dict_keys(['AD', 'AE', 'AF', 'AG', 'AI', 'AL', 'AM', 'AO', 'AQ', 'AR', 'AS', 'AT', 'AU', 'AW', 'AX', 'AZ', 'BA', 'BB', 'BD', 'BE', 'BF', 'BG', 'BH', 'BI', 'BJ', 'BL', 'BM', 'BN', 'BO', 'BQ', 'BR', 'BS', 'BT', 'BV', 'BW', 'BY', 'BZ', 'CA', 'CC', 'CD', 'CF', 'CG', 'CH', 'CI', 'CK', 'CL', 'CM', 'CN', 'CO', 'CR', 'CU', 'CV', 'CW', 'CX', 'CY', 'CZ', 'DE', 'DJ', 'DK', 'DM', 'DO', 'DZ', 'EC', 'EE', 'EG', 'EH', 'ER', 'ES', 'ET', 'FI', 'FJ', 'FK', 'FM', 'FO', 'FR', 'GA', 'GB', 'GD', 'GE', 'GF', 'GG', 'GH', 'GI', 'GL', 'GM', 'GN', 'GP', 'GQ', 'GR', 'GS', 'GT', 'GU', 'GW', 'GY', 'HK', 'HM', 'HN', 'HR', 'HT', 'HU', 'ID', 'IE', 'IL', 'IM', 'IN', 'IO', 'IQ', 'IR', 'IS', 'IT', 'JE', 'JM', 'JO', 'JP', 'KE', 'KG', 'KH', 'KI', 'KM', 'KN', 'KP', 'KR', 'XK', 'KW', 'KY', 'KZ', 'LA', 'LB', 'LC', 'LI', 'LK', 'LR', 'LS', 'LT', 'LU', 'LV', 'LY', 'MA', 'MC', 'MD', 'ME', 'MF', 'MG', 'MH', 'MK', 'ML', 'MM', 'MN', 'MO', 'MP', 'MQ', 'MR', 'MS', 'MT', 'MU', 'MV', 'MW', 'MX', 'MY', 'MZ', 'NA', 'NC', 'NE', 'NF', 'NG', 'NI', 'NL', 'NO', 'NP', 'NR', 'NU', 'NZ', 'OM', 'PA', 'PE', 'PF', 'PG', 'PH', 'PK', 'PL', 'PM', 'PN', 'PR', 'PS', 'PT', 'PW', 'PY', 'QA', 'RE', 'RO', 'RS', 'RU', 'RW', 'SA', 'SB', 'SC', 'SD', 'SS', 'SE', 'SG', 'SH', 'SI', 'SJ', 'SK', 'SL', 'SM', 'SN', 'SO', 'SR', 'ST', 'SV', 'SX', 'SY', 'SZ', 'TC', 'TD', 'TF', 'TG', 'TH', 'TJ', 'TK', 'TL', 'TM', 'TN', 'TO', 'TR', 'TT', 'TV', 'TW', 'TZ', 'UA', 'UG', 'UM', 'US', 'UY', 'UZ', 'VA', 'VC', 'VE', 'VG', 'VI', 'VN', 'VU', 'WF', 'WS', 'YE', 'YT', 'ZA', 'ZM', 'ZW', 'CS', 'AN'])\n",
      "{'geonameid': 3042362, 'name': 'Guernsey', 'iso': 'GG', 'iso3': 'GGY', 'isonumeric': 831, 'fips': 'GK', 'continentcode': 'EU', 'capital': 'St Peter Port', 'areakm2': 78, 'population': 65228, 'tld': '.gg', 'currencycode': 'GBP', 'currencyname': 'Pound', 'phone': '+44-1481', 'postalcoderegex': '^((?:(?:[A-PR-UWYZ][A-HK-Y]\\\\d[ABEHMNPRV-Y0-9]|[A-PR-UWYZ]\\\\d[A-HJKPS-UW0-9])\\\\s\\\\d[ABD-HJLNP-UW-Z]{2})|GIR\\\\s?0AA)$', 'languages': 'en,nrf', 'neighbours': ''}\n",
      "{'geonameid': 290557, 'name': 'United Arab Emirates', 'iso': 'AE', 'iso3': 'ARE', 'isonumeric': 784, 'fips': 'AE', 'continentcode': 'AS', 'capital': 'Abu Dhabi', 'areakm2': 82880, 'population': 4975593, 'tld': '.ae', 'currencycode': 'AED', 'currencyname': 'Dirham', 'phone': '971', 'postalcoderegex': '', 'languages': 'ar-AE,fa,en,hi,ur', 'neighbours': 'SA,OM'}\n"
     ]
    }
   ],
   "source": [
    "#print countries / dictionary\n",
    "countries = gc.get_countries()\n",
    "\n",
    "print(countries.keys())\n",
    "print(countries['GG'])\n",
    "print(countries['AE'])"
   ]
  },
  {
   "cell_type": "code",
   "execution_count": 13,
   "metadata": {},
   "outputs": [
    {
     "name": "stdout",
     "output_type": "stream",
     "text": [
      "{'AF': {'lng': '21.09375', 'geonameId': 6255146, 'timezone': {'gmtOffset': 1, 'timeZoneId': 'Africa/Bangui', 'dstOffset': 1}, 'bbox': {'east': 63.49390709700003, 'south': -37.432486921640724, 'north': 37.5598406350001, 'west': -25.36118769, 'accuracyLevel': 0}, 'toponymName': 'Africa', 'asciiName': 'Africa', 'astergdem': 589, 'fcl': 'L', 'population': 1031833000, 'wikipediaURL': 'en.wikipedia.org/wiki/Africa', 'adminName5': '', 'srtm3': 592, 'adminName4': '', 'adminName3': '', 'alternateNames': [{'name': 'アフリカ', 'lang': 'ja'}, {'isPreferredName': True, 'name': '아프리카', 'lang': 'ko'}, {'name': 'แอฟริกา', 'lang': 'th'}, {'isPreferredName': True, 'name': 'Aafrika', 'lang': 'et'}, {'name': 'Affrica', 'lang': 'cy'}, {'isPreferredName': True, 'name': 'Africa', 'lang': 'en'}, {'isPreferredName': True, 'name': 'Africa', 'lang': 'it'}, {'name': 'Africa', 'lang': 'la'}, {'isShortName': True, 'isPreferredName': True, 'name': 'África', 'lang': 'es'}, {'name': 'África', 'lang': 'pt'}, {'name': 'Àfrica', 'lang': 'ca'}, {'name': 'Afrihkká', 'lang': 'se'}, {'name': 'Afrika', 'lang': 'bs'}, {'name': 'Afrika', 'lang': 'cs'}, {'name': 'Afrika', 'lang': 'da'}, {'isPreferredName': True, 'name': 'Afrika', 'lang': 'de'}, {'name': 'Afrika', 'lang': 'eu'}, {'name': 'Afrika', 'lang': 'hu'}, {'name': 'Afrika', 'lang': 'id'}, {'name': 'Afrika', 'lang': 'lt'}, {'name': 'Afrika', 'lang': 'nb'}, {'name': 'Afrika', 'lang': 'nl'}, {'name': 'Afrika', 'lang': 'no'}, {'isPreferredName': True, 'name': 'Afrika', 'lang': 'sk'}, {'name': 'Afrika', 'lang': 'sv'}, {'name': 'Afrika', 'lang': 'tr'}, {'name': 'Āfrika', 'lang': 'lv'}, {'name': 'Afríka', 'lang': 'is'}, {'name': 'Afrîka', 'lang': 'ku'}, {'name': 'Afrikka', 'lang': 'fi'}, {'name': 'Afriko', 'lang': 'eo'}, {'name': 'Afrique', 'lang': 'fr'}, {'name': 'Afryka', 'lang': 'pl'}, {'name': 'an Afraic', 'lang': 'ga'}, {'name': 'Châu Phi', 'lang': 'vi'}, {'isColloquial': True, 'name': 'el Continente Negro', 'lang': 'es'}, {'name': 'http://id.loc.gov/authorities/subjects/sh85001531', 'lang': 'link'}, {'name': 'https://en.wikipedia.org/wiki/Africa', 'lang': 'link'}, {'name': 'افریقا', 'lang': 'fa'}, {'name': 'أفريقيا', 'lang': 'ar'}, {'name': 'אפריקה', 'lang': 'he'}, {'name': 'Αφρική', 'lang': 'el'}, {'name': 'Африка', 'lang': 'bg'}, {'name': 'Африка', 'lang': 'ru'}, {'name': 'Африка', 'lang': 'uk'}, {'name': 'अफ़्रीका', 'lang': 'hi'}, {'name': '非洲', 'lang': 'zh'}], 'cc2': 'AO,BF,BI,BJ,BW,CD,CF,CG,CI,CM,CV,DJ,DZ,EG,ER,ET,GA,GH,GM,GN,GQ,GW,KE,KM,LR,LS,LY,MA,MG,ML,MR,MU,MW,MZ,NA,NE,NG,RE,RW,SC,SD,SH,SL,SN,SO,SS,ST,SZ,TD,TG,TN,TZ,UG,YT,ZA,ZM,ZW', 'adminName2': '', 'name': 'Africa', 'fclName': 'parks,area, ...', 'fcodeName': 'continent', 'adminName1': '', 'lat': '7.1881', 'fcode': 'CONT', 'continentCode': 'AF'}, 'AS': {'lng': '89.29688', 'geonameId': 6255147, 'timezone': {'gmtOffset': 8, 'timeZoneId': 'Australia/Perth', 'dstOffset': 8}, 'bbox': {'east': -168.98974609375, 'south': -11.00214, 'north': 81.8519287109375, 'west': 25.6685104370001, 'accuracyLevel': 0}, 'toponymName': 'Asia', 'asciiName': 'Asia', 'astergdem': 5115, 'fcl': 'L', 'population': 3812366000, 'wikipediaURL': 'en.wikipedia.org/wiki/Asia', 'adminName5': '', 'srtm3': 5101, 'adminName4': '', 'adminName3': '', 'alternateNames': [{'name': 'アジア', 'lang': 'ja'}, {'isPreferredName': True, 'name': '아시아', 'lang': 'ko'}, {'name': 'เอเชีย', 'lang': 'th'}, {'isPreferredName': True, 'name': 'Aasia', 'lang': 'et'}, {'name': 'Aasia', 'lang': 'fi'}, {'name': 'an Áise', 'lang': 'ga'}, {'name': 'Asia', 'lang': 'cy'}, {'isPreferredName': True, 'name': 'Asia', 'lang': 'en'}, {'isShortName': True, 'isPreferredName': True, 'name': 'Asia', 'lang': 'es'}, {'name': 'Asia', 'lang': 'eu'}, {'name': 'Asia', 'lang': 'id'}, {'name': 'Asia', 'lang': 'it'}, {'name': 'Asia', 'lang': 'la'}, {'name': 'Asia', 'lang': 'nb'}, {'name': 'Asia', 'lang': 'no'}, {'name': 'Ásia', 'lang': 'pt'}, {'name': 'Ásia', 'lang': 'se'}, {'name': 'Àsia', 'lang': 'ca'}, {'name': 'Asía', 'lang': 'is'}, {'name': 'Asie', 'lang': 'cs'}, {'name': 'Asie', 'lang': 'fr'}, {'name': 'Asien', 'lang': 'da'}, {'isPreferredName': True, 'name': 'Asien', 'lang': 'de'}, {'name': 'Asien', 'lang': 'sv'}, {'name': 'Asya', 'lang': 'ku'}, {'name': 'Asya', 'lang': 'tr'}, {'isPreferredName': True, 'name': 'Ázia', 'lang': 'sk'}, {'isShortName': True, 'isPreferredName': True, 'name': 'Azië', 'lang': 'nl'}, {'name': 'Azija', 'lang': 'bs'}, {'name': 'Azija', 'lang': 'lt'}, {'name': 'Āzija', 'lang': 'lv'}, {'name': 'Azio', 'lang': 'eo'}, {'name': 'Azja', 'lang': 'pl'}, {'name': 'Ázsia', 'lang': 'hu'}, {'name': 'Châu Á', 'lang': 'vi'}, {'name': 'http://id.loc.gov/authorities/subjects/sh85008606', 'lang': 'link'}, {'name': 'https://en.wikipedia.org/wiki/Asia', 'lang': 'link'}, {'name': 'آسيا', 'lang': 'ar'}, {'name': 'ایشیا', 'lang': 'ur'}, {'name': 'אסיה', 'lang': 'he'}, {'name': 'Ασία', 'lang': 'el'}, {'name': 'Азия', 'lang': 'bg'}, {'isShortName': True, 'isPreferredName': True, 'name': 'Азия', 'lang': 'ru'}, {'name': 'Азія', 'lang': 'uk'}, {'name': 'एशिया महाद्वीप', 'lang': 'hi'}, {'name': '亚洲', 'lang': 'zh'}], 'cc2': 'AE,AF,AM,AZ,BD,BH,BN,BT,CN,CY,GE,HK,ID,IL,IN,IQ,IR,JO,JP,KG,KH,KP,KR,KW,KZ,LA,LB,LK,MM,MN,MO,MV,MY,NP,OM,PH,PK,PS,QA,SA,SG,SY,TH,TJ,TL,TM,TR,TW,UZ,VN,YE', 'adminName2': '', 'name': 'Asia', 'fclName': 'parks,area, ...', 'fcodeName': 'continent', 'adminName1': '', 'lat': '29.84064', 'fcode': 'CONT', 'continentCode': 'AS'}, 'EU': {'lng': '9.14062', 'geonameId': 6255148, 'timezone': {'gmtOffset': 1, 'timeZoneId': 'Europe/Vaduz', 'dstOffset': 2}, 'bbox': {'east': 41.73303985595703, 'south': 27.6377894797159, 'north': 80.76416015625, 'west': -24.532675386662543, 'accuracyLevel': 0}, 'toponymName': 'Europe', 'asciiName': 'Europe', 'astergdem': 439, 'fcl': 'L', 'population': 741000000, 'wikipediaURL': 'en.wikipedia.org/wiki/Europe', 'adminName5': '', 'srtm3': 443, 'adminName4': '', 'adminName3': '', 'alternateNames': [{'isPreferredName': True, 'name': '유럽', 'lang': 'ko'}, {'name': 'ยุโรป', 'lang': 'th'}, {'name': 'ヨーロッパ', 'lang': 'ja'}, {'name': 'an Eoraip', 'lang': 'ga'}, {'name': 'Avrupa', 'lang': 'tr'}, {'name': 'Châu Âu', 'lang': 'vi'}, {'name': 'Eiropa', 'lang': 'lv'}, {'isColloquial': True, 'name': 'El viejo continente', 'lang': 'es'}, {'name': 'Eropa', 'lang': 'id'}, {'name': 'Eurohpá', 'lang': 'se'}, {'isPreferredName': True, 'name': 'Euroopa', 'lang': 'et'}, {'name': 'Eurooppa', 'lang': 'fi'}, {'isShortName': True, 'isPreferredName': True, 'name': 'Europa', 'lang': 'ca'}, {'name': 'Europa', 'lang': 'da'}, {'isPreferredName': True, 'name': 'Europa', 'lang': 'de'}, {'isShortName': True, 'isPreferredName': True, 'name': 'Europa', 'lang': 'es'}, {'name': 'Europa', 'lang': 'eu'}, {'name': 'Europa', 'lang': 'it'}, {'name': 'Europa', 'lang': 'la'}, {'name': 'Europa', 'lang': 'lt'}, {'name': 'Europa', 'lang': 'nb'}, {'isShortName': True, 'isPreferredName': True, 'name': 'Europa', 'lang': 'nl'}, {'name': 'Europa', 'lang': 'no'}, {'name': 'Europa', 'lang': 'pl'}, {'name': 'Europa', 'lang': 'pt'}, {'isPreferredName': True, 'name': 'Europa', 'lang': 'ro'}, {'name': 'Europa', 'lang': 'sv'}, {'name': 'Európa', 'lang': 'hu'}, {'isPreferredName': True, 'name': 'Európa', 'lang': 'sk'}, {'isPreferredName': True, 'name': 'Europe', 'lang': 'en'}, {'name': 'Europe', 'lang': 'fr'}, {'name': 'Eŭropo', 'lang': 'eo'}, {'name': 'Evropa', 'lang': 'bs'}, {'name': 'Evropa', 'lang': 'cs'}, {'name': 'Evrópa', 'lang': 'is'}, {'name': 'Ewrop', 'lang': 'cy'}, {'name': 'Ewropa', 'lang': 'ku'}, {'name': 'http://id.loc.gov/authorities/subjects/sh85045631', 'lang': 'link'}, {'name': 'https://en.wikipedia.org/wiki/Europe', 'lang': 'link'}, {'name': 'أوروبا', 'lang': 'ar'}, {'name': 'אירופה', 'lang': 'he'}, {'name': 'Ευρώπη', 'lang': 'el'}, {'name': 'Европа', 'lang': 'bg'}, {'isPreferredName': True, 'name': 'Европа', 'lang': 'ru'}, {'name': 'Еўропа', 'lang': 'be'}, {'name': 'Європа', 'lang': 'uk'}, {'name': 'Рашка', 'lang': 'ru'}, {'name': 'यूरोप', 'lang': 'hi'}, {'name': '欧洲', 'lang': 'zh'}], 'cc2': 'AD,AL,AT,AX,BA,BE,BG,BY,CH,CZ,DE,DK,EE,ES,FI,FO,FR,GB,GG,GI,GR,HR,HU,IE,IM,IS,IT,JE,LI,LT,LU,LV,MC,MD,ME,MK,MT,NL,NO,PL,PT,RO,RS,RU,SE,SI,SJ,SK,SM,UA,VA', 'adminName2': '', 'name': 'Europe', 'fclName': 'parks,area, ...', 'fcodeName': 'continent', 'adminName1': '', 'lat': '48.69096', 'fcode': 'CONT', 'continentCode': 'EU'}, 'NA': {'lng': '-100.54688', 'geonameId': 6255149, 'timezone': {'gmtOffset': -7, 'timeZoneId': 'America/Cambridge_Bay', 'dstOffset': -6}, 'bbox': {'east': -25.012222290039062, 'south': 5.49857041364627, 'north': 83.1355025240001, 'west': 172.444761, 'accuracyLevel': 0}, 'toponymName': 'North America', 'asciiName': 'North America', 'astergdem': 566, 'fcl': 'L', 'population': 580000000, 'wikipediaURL': 'en.wikipedia.org/wiki/North_America', 'adminName5': '', 'srtm3': 570, 'adminName4': '', 'adminName3': '', 'alternateNames': [{'isPreferredName': True, 'name': '북아메리카', 'lang': 'ko'}, {'name': 'อเมริกาเหนือ', 'lang': 'th'}, {'name': 'Abya Yala', 'lang': 'cai'}, {'name': 'Amèrica del Nord', 'lang': 'ca'}, {'isPreferredName': True, 'name': 'América del Norte', 'lang': 'es'}, {'name': 'América do Norte', 'lang': 'pt'}, {'name': 'América Septentrional', 'lang': 'es'}, {'name': 'America settentrionale', 'lang': 'it'}, {'name': 'Amerika Utara', 'lang': 'id'}, {'name': 'Amerîkaya Bakur', 'lang': 'ku'}, {'name': 'Amérique du Nord', 'lang': 'fr'}, {'name': 'Ameryka Północna', 'lang': 'pl'}, {'name': 'Bắc Mỹ', 'lang': 'vi'}, {'name': 'Davvi-Amerihkká', 'lang': 'se'}, {'name': 'Észak-Amerika', 'lang': 'hu'}, {'name': 'Gogledd America', 'lang': 'cy'}, {'name': 'http://id.loc.gov/authorities/subjects/sh85092455', 'lang': 'link'}, {'name': 'https://en.wikipedia.org/wiki/North_America', 'lang': 'link'}, {'name': 'Kuzey Amerika', 'lang': 'tr'}, {'name': 'Meiriceá Thuaidh', 'lang': 'ga'}, {'name': 'Noord-Amerika', 'lang': 'nl'}, {'name': 'Nordamerika', 'lang': 'da'}, {'isPreferredName': True, 'name': 'Nordamerika', 'lang': 'de'}, {'name': 'Nordamerika', 'lang': 'sv'}, {'name': 'Nord-Amerika', 'lang': 'nb'}, {'name': 'Nord-Amerika', 'lang': 'no'}, {'name': 'Nordameriko', 'lang': 'eo'}, {'name': 'Norður-Ameríka', 'lang': 'is'}, {'isShortName': True, 'name': 'Norteamérica', 'lang': 'es'}, {'isPreferredName': True, 'name': 'North America', 'lang': 'en'}, {'isPreferredName': True, 'name': 'Põhja-Ameerika', 'lang': 'et'}, {'name': 'Pohjois-Amerikka', 'lang': 'fi'}, {'isPreferredName': True, 'name': 'Severná Amerika', 'lang': 'sk'}, {'name': 'Severní Amerika', 'lang': 'cs'}, {'name': 'Šiaurės Amerika', 'lang': 'lt'}, {'name': 'Sjeverna Amerika', 'lang': 'bs'}, {'name': 'Ziemeļamerika', 'lang': 'lv'}, {'name': 'أمريكا الشمالية', 'lang': 'ar'}, {'name': 'شمالی امریکہ', 'lang': 'ur'}, {'name': 'אמריקה הצפונית', 'lang': 'he'}, {'name': 'Βόρεια Αμερική', 'lang': 'el'}, {'name': 'Північна Америка', 'lang': 'ru'}, {'name': 'Північна Америка', 'lang': 'uk'}, {'name': 'Северна Америка', 'lang': 'bg'}, {'isPreferredName': True, 'name': 'Северная Америка', 'lang': 'ru'}, {'name': 'उत्तरी अमरीका', 'lang': 'hi'}, {'name': '北アメリカ', 'lang': 'ja'}, {'name': '北美洲', 'lang': 'zh'}], 'cc2': 'AG,AI,AW,BB,BL,BM,BQ,BS,BZ,CA,CR,CU,CW,DM,DO,GD,GL,GP,GT,HN,HT,JM,KN,KY,LC,MF,MQ,MS,MX,NI,PA,PM,PR,SV,SX,TC,TT,US,VC,VG,VI', 'adminName2': '', 'name': 'North America', 'fclName': 'parks,area, ...', 'fcodeName': 'continent', 'adminName1': '', 'lat': '46.07323', 'fcode': 'CONT', 'continentCode': 'NA'}, 'OC': {'lng': '138.51562', 'geonameId': 6255151, 'timezone': {'gmtOffset': 11, 'timeZoneId': 'Pacific/Pohnpei', 'dstOffset': 11}, 'bbox': {'east': 179.44752455997005, 'south': -47.289992513656124, 'north': 28.402182, 'west': -179.9999999999999, 'accuracyLevel': 0}, 'toponymName': 'Oceania', 'asciiName': 'Oceania', 'astergdem': 70, 'fcl': 'L', 'population': 40000000, 'wikipediaURL': 'en.wikipedia.org/wiki/Oceania', 'adminName5': '', 'srtm3': 72, 'adminName4': '', 'adminName3': '', 'alternateNames': [{'name': 'オセアニア', 'lang': 'ja'}, {'isPreferredName': True, 'name': '오세아니아', 'lang': 'ko'}, {'name': 'โอเชียเนีย', 'lang': 'th'}, {'name': 'an Aigéine', 'lang': 'ga'}, {'name': 'Châu Đại Dương', 'lang': 'vi'}, {'name': 'Eyjaálfa', 'lang': 'is'}, {'name': 'https://en.wikipedia.org/wiki/Oceania', 'lang': 'link'}, {'name': 'Oceania', 'lang': 'ca'}, {'name': 'Oceania', 'lang': 'cy'}, {'isPreferredName': True, 'name': 'Oceania', 'lang': 'en'}, {'name': 'Oceania', 'lang': 'id'}, {'name': 'Oceania', 'lang': 'it'}, {'name': 'Oceania', 'lang': 'pl'}, {'name': 'Oceania', 'lang': 'pt'}, {'isPreferredName': True, 'name': 'Oceánia', 'lang': 'sk'}, {'name': 'Óceánia', 'lang': 'hu'}, {'isShortName': True, 'isPreferredName': True, 'name': 'Oceanía', 'lang': 'es'}, {'name': 'Océanie', 'lang': 'fr'}, {'name': 'Oceánie', 'lang': 'cs'}, {'name': 'Oceanië', 'lang': 'nl'}, {'name': 'Oceanien', 'lang': 'da'}, {'name': 'Oceanien', 'lang': 'sv'}, {'name': 'Oceanio', 'lang': 'eo'}, {'isPreferredName': True, 'name': 'Okeaania', 'lang': 'et'}, {'name': 'Okeanija', 'lang': 'lt'}, {'name': 'Okeānija', 'lang': 'lv'}, {'name': 'Okyanusya', 'lang': 'tr'}, {'name': 'Oseania', 'lang': 'fi'}, {'name': 'Oseania', 'lang': 'nb'}, {'name': 'Oseania', 'lang': 'no'}, {'name': 'Oseania', 'lang': 'se'}, {'isPreferredName': True, 'name': 'Ozeanien', 'lang': 'de'}, {'name': 'أوقيانوسيا', 'lang': 'ar'}, {'name': 'אוקיאניה', 'lang': 'he'}, {'name': 'Ωκεανία', 'lang': 'el'}, {'name': 'Океания', 'lang': 'bg'}, {'isPreferredName': True, 'name': 'Океания', 'lang': 'ru'}, {'name': 'Океанія', 'lang': 'uk'}, {'name': 'ओशीनिया', 'lang': 'hi'}, {'name': '大洋洲', 'lang': 'zh'}], 'cc2': 'AU,CK,FJ,FM,GU,KI,MH,NC,NF,NR,NU,NZ,PG,PN,PW,SB,TK,TO,TV,VU,WF,WS', 'adminName2': '', 'name': 'Oceania', 'fclName': 'parks,area, ...', 'fcodeName': 'continent', 'adminName1': '', 'lat': '-18.31281', 'fcode': 'CONT', 'continentCode': 'OC'}, 'SA': {'lng': '-57.65625', 'geonameId': 6255150, 'timezone': {'gmtOffset': -3, 'timeZoneId': 'America/Recife', 'dstOffset': -3}, 'bbox': {'east': -28.8360947061847, 'south': -56.5377657939999, 'north': 13.394789727, 'west': -109.454879262, 'accuracyLevel': 0}, 'toponymName': 'South America', 'asciiName': 'South America', 'astergdem': 276, 'fcl': 'L', 'population': 385742554, 'wikipediaURL': 'en.wikipedia.org/wiki/South_America', 'adminName5': '', 'srtm3': 278, 'adminName4': '', 'adminName3': '', 'alternateNames': [{'isPreferredName': True, 'name': '남아메리카', 'lang': 'ko'}, {'name': 'อเมริกาใต้', 'lang': 'th'}, {'name': 'Abya Yala', 'lang': 'cai'}, {'name': 'América del Sud', 'lang': 'es'}, {'name': 'Amèrica del Sud', 'lang': 'ca'}, {'isPreferredName': True, 'name': 'América del Sur', 'lang': 'es'}, {'name': 'América do Sul', 'lang': 'pt'}, {'name': 'América Meridional', 'lang': 'es'}, {'name': 'America meridionale', 'lang': 'it'}, {'name': 'Amerika Selatan', 'lang': 'id'}, {'name': 'Amerîkaya Başûr', 'lang': 'ku'}, {'name': 'Amérique du Sud', 'lang': 'fr'}, {'name': 'Ameryka Południowa', 'lang': 'pl'}, {'name': 'De America', 'lang': 'cy'}, {'name': 'Dél-Amerika', 'lang': 'hu'}, {'name': 'Dienvidamerika', 'lang': 'lv'}, {'name': 'Etelä-Amerikka', 'lang': 'fi'}, {'name': 'Güney Amerika', 'lang': 'tr'}, {'name': 'Hegoamerika', 'lang': 'eu'}, {'name': 'Hego-Amerika', 'lang': 'eu'}, {'name': 'http://id.loc.gov/authorities/subjects/sh85125524', 'lang': 'link'}, {'name': 'https://en.wikipedia.org/wiki/South_America', 'lang': 'link'}, {'name': 'Jižní Amerika', 'lang': 'cs'}, {'name': 'Južna Amerika', 'lang': 'bs'}, {'isPreferredName': True, 'name': 'Južná Amerika', 'lang': 'sk'}, {'isPreferredName': True, 'name': 'Lõuna-Ameerika', 'lang': 'et'}, {'name': 'Lulli-Amerihkká', 'lang': 'se'}, {'name': 'Meiriceá Theas', 'lang': 'ga'}, {'name': 'Nam Mỹ', 'lang': 'vi'}, {'name': 'Pietų Amerika', 'lang': 'lt'}, {'name': 'Sør-Amerika', 'lang': 'nb'}, {'name': 'Sør-Amerika', 'lang': 'no'}, {'isPreferredName': True, 'name': 'South America', 'lang': 'en'}, {'isShortName': True, 'name': 'Sudamérica', 'lang': 'es'}, {'isPreferredName': True, 'name': 'Südamerika', 'lang': 'de'}, {'name': 'Sudameriko', 'lang': 'eo'}, {'name': 'Suður-Ameríka', 'lang': 'is'}, {'name': 'Suramérica', 'lang': 'es'}, {'name': 'Sydamerika', 'lang': 'da'}, {'name': 'Sydamerika', 'lang': 'sv'}, {'name': 'Zuid-Amerika', 'lang': 'nl'}, {'name': 'أمريكا الجنوبية', 'lang': 'ar'}, {'name': 'אמריקה הדרומית', 'lang': 'he'}, {'name': 'Νότια Αμερική', 'lang': 'el'}, {'name': 'Південна Америка', 'lang': 'uk'}, {'name': 'Южна Америка', 'lang': 'bg'}, {'name': 'Южная Америка', 'lang': 'ru'}, {'name': 'दक्षिणी अमरीका', 'lang': 'hi'}, {'name': '南アメリカ', 'lang': 'ja'}, {'name': '南美洲', 'lang': 'zh'}], 'cc2': 'BR,CO,AR,PE,VE,CL,EC,BO,PY,UY,GY,SR,GF,FK', 'adminName2': '', 'name': 'South America', 'fclName': 'parks,area, ...', 'fcodeName': 'continent', 'adminName1': '', 'lat': '-14.60485', 'fcode': 'CONT', 'continentCode': 'SA'}, 'AN': {'lng': '16.40626', 'geonameId': 6255152, 'timezone': {'gmtOffset': 3, 'timeZoneId': 'Antarctica/Syowa', 'dstOffset': 3}, 'bbox': {'east': 77.58521569100006, 'south': -49.72161223799989, 'north': -37.82024504999994, 'west': 68.61011803500011, 'accuracyLevel': 0}, 'toponymName': 'Antarctica', 'asciiName': 'Antarctica', 'astergdem': -9999, 'fcl': 'L', 'population': 1100, 'wikipediaURL': 'en.wikipedia.org/wiki/Antarctica', 'adminName5': '', 'srtm3': -32768, 'adminName4': '', 'adminName3': '', 'alternateNames': [{'isPreferredName': True, 'name': '남극', 'lang': 'ko'}, {'isPreferredName': True, 'name': 'አንታርክቲካ', 'lang': 'am'}, {'name': 'แอนตาร์กติกา', 'lang': 'th'}, {'name': 'an Antartaice', 'lang': 'ga'}, {'isPreferredName': True, 'name': 'ʻAnetātika', 'lang': 'to'}, {'name': 'Antarctica', 'lang': 'cy'}, {'isPreferredName': True, 'name': 'Antarctica', 'lang': 'en'}, {'isPreferredName': True, 'name': 'Antarctica', 'lang': 'ia'}, {'isPreferredName': True, 'name': 'Antarctica', 'lang': 'ms'}, {'isPreferredName': True, 'name': 'Antarctica', 'lang': 'nl'}, {'isPreferredName': True, 'name': 'Antarctica', 'lang': 'ro'}, {'name': 'Antarctique', 'lang': 'fr'}, {'name': 'Antarktida', 'lang': 'cs'}, {'name': 'Antarktida', 'lang': 'lt'}, {'isPreferredName': True, 'name': 'Antarktída', 'lang': 'sk'}, {'name': 'Antarktīda', 'lang': 'lv'}, {'name': 'Antarktik', 'lang': 'bs'}, {'isPreferredName': True, 'name': 'Antarktika', 'lang': 'af'}, {'name': 'Antarktika', 'lang': 'de'}, {'isPreferredName': True, 'name': 'Antarktika', 'lang': 'et'}, {'isPreferredName': True, 'name': 'Antarktika', 'lang': 'hr'}, {'isPreferredName': True, 'name': 'Antarktika', 'lang': 'lv'}, {'isPreferredName': True, 'name': 'Antarktika', 'lang': 'sl'}, {'name': 'Antarktika', 'lang': 'tr'}, {'name': 'Antarktíka', 'lang': 'is'}, {'name': 'Antarktîka', 'lang': 'ku'}, {'name': 'Antarktis', 'lang': 'da'}, {'isPreferredName': True, 'name': 'Antarktis', 'lang': 'de'}, {'isPreferredName': True, 'name': 'Antarktis', 'lang': 'fi'}, {'isPreferredName': True, 'name': 'Antarktis', 'lang': 'fo'}, {'isPreferredName': True, 'name': 'Antarktis', 'lang': 'nb'}, {'isPreferredName': True, 'name': 'Antarktis', 'lang': 'nn'}, {'name': 'Antarktis', 'lang': 'sv'}, {'name': 'Antárktis', 'lang': 'se'}, {'name': 'Antarktisz', 'lang': 'hu'}, {'name': 'Antarkto', 'lang': 'eo'}, {'name': 'Antarktyda', 'lang': 'pl'}, {'isPreferredName': True, 'name': 'Antarktyka', 'lang': 'pl'}, {'name': 'Antártica', 'lang': 'pt'}, {'isShortName': True, 'isPreferredName': True, 'name': 'Antártida', 'lang': 'es'}, {'isPreferredName': True, 'name': 'Antártida', 'lang': 'gl'}, {'name': 'Antàrtida', 'lang': 'ca'}, {'name': 'Antartide', 'lang': 'it'}, {'isPreferredName': True, 'name': 'Antartika', 'lang': 'eu'}, {'name': 'Antartika', 'lang': 'id'}, {'isPreferredName': True, 'name': 'Antartika', 'lang': 'mt'}, {'name': 'Châu Nam Cực', 'lang': 'vi'}, {'name': 'Etelämanner', 'lang': 'fi'}, {'name': 'http://id.loc.gov/authorities/subjects/sh85005490', 'lang': 'link'}, {'name': 'https://en.wikipedia.org/wiki/Antarctica', 'lang': 'link'}, {'isPreferredName': True, 'name': 'Nam Cực', 'lang': 'vi'}, {'isPreferredName': True, 'name': 'Suðurheimskautslandið', 'lang': 'is'}, {'name': 'Suðurskautslandið', 'lang': 'is'}, {'isPreferredName': True, 'name': 'القطب الجنوبي', 'lang': 'ar'}, {'name': 'أنتاركتيكا', 'lang': 'ar'}, {'isPreferredName': True, 'name': 'انتارکتیکا', 'lang': 'ps'}, {'isPreferredName': True, 'name': 'انٹار ٹکا', 'lang': 'ur'}, {'isPreferredName': True, 'name': 'قطب جنوب', 'lang': 'fa'}, {'name': 'אנטארקטיקה', 'lang': 'he'}, {'isPreferredName': True, 'name': 'אנטרקטיקה', 'lang': 'he'}, {'name': 'Ανταρκτική', 'lang': 'el'}, {'name': 'Антарктида', 'lang': 'bg'}, {'name': 'Антарктида', 'lang': 'ru'}, {'isPreferredName': True, 'name': 'Антарктида', 'lang': 'uk'}, {'isPreferredName': True, 'name': 'Антарктик', 'lang': 'mk'}, {'isPreferredName': True, 'name': 'Антарктик', 'lang': 'sr'}, {'isPreferredName': True, 'name': 'Антарктика', 'lang': 'bg'}, {'isPreferredName': True, 'name': 'Антарктика', 'lang': 'ru'}, {'isPreferredName': True, 'name': 'Антарктыка', 'lang': 'be'}, {'isPreferredName': True, 'name': 'ལྷོ་རྩེའི་མཐའ་གླིང་།', 'lang': 'bo'}, {'isPreferredName': True, 'name': 'ཨེན་ཊཱག་ཊི་ཀ', 'lang': 'dz'}, {'isPreferredName': True, 'name': 'ანტარქტიკა', 'lang': 'ka'}, {'name': 'अंटार्कटिका', 'lang': 'hi'}, {'isPreferredName': True, 'name': 'അന്\\u200dറാര്\\u200dട്ടിക്ക', 'lang': 'ml'}, {'isPreferredName': True, 'name': 'আন্টার্কটিকা', 'lang': 'bn'}, {'name': '南极洲', 'lang': 'zh'}, {'name': '南極', 'lang': 'ja'}, {'isPreferredName': True, 'name': '南極大陸', 'lang': 'ja'}], 'adminName2': '', 'name': 'Antarctica', 'fclName': 'parks,area, ...', 'fcodeName': 'continent', 'adminName1': '', 'lat': '-78.15856', 'fcode': 'CONT', 'continentCode': 'AN'}}\n"
     ]
    }
   ],
   "source": [
    "# print continents / dictionary\n",
    "continents = gc.get_continents()\n",
    "print(continents)"
   ]
  },
  {
   "cell_type": "code",
   "execution_count": 49,
   "metadata": {},
   "outputs": [
    {
     "name": "stdout",
     "output_type": "stream",
     "text": [
      "ESP\n"
     ]
    }
   ],
   "source": [
    "from geonamescache.mappers import country\n",
    "mapper = country(from_key='name', to_key='iso3')\n",
    "\n",
    "iso3 = mapper('Spain') # iso3 is assigned ESP\n",
    "\n",
    "print(iso3)"
   ]
  },
  {
   "cell_type": "markdown",
   "metadata": {},
   "source": [
    "__GeoText__\n",
    "\n",
    "Only for English ? uses SpaCy for retrieval and classification of LOC entities "
   ]
  },
  {
   "cell_type": "code",
   "execution_count": 19,
   "metadata": {},
   "outputs": [],
   "source": [
    "my_str = \"Hilton hotel in Paris is a great place. However I would prefer a vacation in Landerneau. Do you know that French people call the capital of England Londres ?\""
   ]
  },
  {
   "cell_type": "code",
   "execution_count": 21,
   "metadata": {},
   "outputs": [
    {
     "name": "stdout",
     "output_type": "stream",
     "text": [
      "['Paris', 'Landerneau']\n",
      "[]\n"
     ]
    }
   ],
   "source": [
    "places = GeoText(my_str)\n",
    "cities = places.cities\n",
    "print(cities)\n",
    "countries = places.countries\n",
    "print(countries)"
   ]
  },
  {
   "cell_type": "markdown",
   "metadata": {},
   "source": [
    "issue : Londres is French so it is not recognized as a city (London). England is not captured because it is neither a city nor a country ? Need to go through the documentation"
   ]
  },
  {
   "cell_type": "markdown",
   "metadata": {},
   "source": [
    "__Geopy__\n",
    "\n",
    "Works with French !! Issue : works only with cities... in fact it is useful for retrieving informations from coordinates or from a city name but it can't be used to get information about highre level places."
   ]
  },
  {
   "cell_type": "code",
   "execution_count": 48,
   "metadata": {},
   "outputs": [
    {
     "name": "stdout",
     "output_type": "stream",
     "text": [
      "48.8566969 2.3514616\n",
      "48.4514803 -4.2557901\n",
      "51.5073219 -0.1276474\n",
      "16.8680495 -99.8940182\n",
      "43.3870763 -1.6635695\n",
      "48.1371079 11.5753822\n",
      "[Location(Paris, Île-de-France, France métropolitaine, France, (48.8566969, 2.3514616, 0.0)), Location(Landerneau, Brest, Finistère, Bretagne, France métropolitaine, 29800, France, (48.4514803, -4.2557901, 0.0)), Location(London, Greater London, England, United Kingdom, (51.5073219, -0.1276474, 0.0)), Location(Acapulco, Acapulco de Juárez, Guerrero, 39300, México, (16.8680495, -99.8940182, 0.0)), Location(Saint-Jean-de-Luz, Bayonne, Pyrénées-Atlantiques, Nouvelle-Aquitaine, France métropolitaine, 64500, France, (43.3870763, -1.6635695, 0.0)), Location(München, Bayern, Deutschland, (48.1371079, 11.5753822, 0.0))]\n"
     ]
    }
   ],
   "source": [
    "geopy.geocoders.options.default_user_agent = \"my-application1\"\n",
    "geolocator = Nominatim(timeout=2)\n",
    "\n",
    "cities = ['Paris', 'Landerneau', 'Londres', 'Acapulco', 'Saint-Jean de Luz', 'Munich']\n",
    "\n",
    "lat_lon = []\n",
    "for city in cities: \n",
    "    try:\n",
    "        location = geolocator.geocode(city)\n",
    "        if location:\n",
    "            print(location.latitude, location.longitude)\n",
    "            lat_lon.append(location)\n",
    "    except GeocoderTimedOut as e:\n",
    "        print(\"Error: geocode failed on input %s with message %s\" %(city, e))\n",
    "print(lat_lon)"
   ]
  },
  {
   "cell_type": "code",
   "execution_count": 36,
   "metadata": {},
   "outputs": [
    {
     "data": {
      "text/html": [
       "<div>\n",
       "<style scoped>\n",
       "    .dataframe tbody tr th:only-of-type {\n",
       "        vertical-align: middle;\n",
       "    }\n",
       "\n",
       "    .dataframe tbody tr th {\n",
       "        vertical-align: top;\n",
       "    }\n",
       "\n",
       "    .dataframe thead th {\n",
       "        text-align: right;\n",
       "    }\n",
       "</style>\n",
       "<table border=\"1\" class=\"dataframe\">\n",
       "  <thead>\n",
       "    <tr style=\"text-align: right;\">\n",
       "      <th></th>\n",
       "      <th>City Name</th>\n",
       "      <th>Coordinates</th>\n",
       "    </tr>\n",
       "  </thead>\n",
       "  <tbody>\n",
       "    <tr>\n",
       "      <th>0</th>\n",
       "      <td>Paris, Île-de-France, France métropolitaine, F...</td>\n",
       "      <td>(48.8566969, 2.3514616)</td>\n",
       "    </tr>\n",
       "    <tr>\n",
       "      <th>1</th>\n",
       "      <td>Landerneau, Brest, Finistère, Bretagne, France...</td>\n",
       "      <td>(48.4514803, -4.2557901)</td>\n",
       "    </tr>\n",
       "    <tr>\n",
       "      <th>2</th>\n",
       "      <td>London, Greater London, England, United Kingdom</td>\n",
       "      <td>(51.5073219, -0.1276474)</td>\n",
       "    </tr>\n",
       "    <tr>\n",
       "      <th>3</th>\n",
       "      <td>Acapulco, Acapulco de Juárez, Guerrero, 39300,...</td>\n",
       "      <td>(16.8680495, -99.8940182)</td>\n",
       "    </tr>\n",
       "    <tr>\n",
       "      <th>4</th>\n",
       "      <td>Saint-Jean-de-Luz, Bayonne, Pyrénées-Atlantiqu...</td>\n",
       "      <td>(43.3870763, -1.6635695)</td>\n",
       "    </tr>\n",
       "    <tr>\n",
       "      <th>5</th>\n",
       "      <td>München, Bayern, Deutschland</td>\n",
       "      <td>(48.1371079, 11.5753822)</td>\n",
       "    </tr>\n",
       "  </tbody>\n",
       "</table>\n",
       "</div>"
      ],
      "text/plain": [
       "                                           City Name  \\\n",
       "0  Paris, Île-de-France, France métropolitaine, F...   \n",
       "1  Landerneau, Brest, Finistère, Bretagne, France...   \n",
       "2    London, Greater London, England, United Kingdom   \n",
       "3  Acapulco, Acapulco de Juárez, Guerrero, 39300,...   \n",
       "4  Saint-Jean-de-Luz, Bayonne, Pyrénées-Atlantiqu...   \n",
       "5                       München, Bayern, Deutschland   \n",
       "\n",
       "                 Coordinates  \n",
       "0    (48.8566969, 2.3514616)  \n",
       "1   (48.4514803, -4.2557901)  \n",
       "2   (51.5073219, -0.1276474)  \n",
       "3  (16.8680495, -99.8940182)  \n",
       "4   (43.3870763, -1.6635695)  \n",
       "5   (48.1371079, 11.5753822)  "
      ]
     },
     "execution_count": 36,
     "metadata": {},
     "output_type": "execute_result"
    }
   ],
   "source": [
    "df = pd.DataFrame(lat_lon, columns=['City Name', 'Coordinates'])\n",
    "df.head(7)\n"
   ]
  },
  {
   "cell_type": "code",
   "execution_count": 37,
   "metadata": {},
   "outputs": [
    {
     "name": "stdout",
     "output_type": "stream",
     "text": [
      "L'Art, Place de l'Hôtel-de-Ville - Esplanade de la Libération, Beaubourg, Quartier Saint-Merri, Paris 4e Arrondissement, Paris, Île-de-France, France métropolitaine, 75004, France\n"
     ]
    }
   ],
   "source": [
    "#test\n",
    "Latitude = \"48.8566969\"\n",
    "Longitude = \"2.3514616\"\n",
    " \n",
    "location = geolocator.reverse(Latitude+\",\"+Longitude) \n",
    "  \n",
    "# Display \n",
    "print(location)"
   ]
  },
  {
   "cell_type": "code",
   "execution_count": 31,
   "metadata": {},
   "outputs": [
    {
     "name": "stdout",
     "output_type": "stream",
     "text": [
      "{'tourism': \"L'Art\", 'road': \"Place de l'Hôtel-de-Ville - Esplanade de la Libération\", 'neighbourhood': 'Beaubourg', 'suburb': 'Paris 4e Arrondissement', 'city': 'Paris', 'municipality': 'Paris', 'county': 'Paris', 'state': 'Île-de-France', 'country': 'France', 'postcode': '75004', 'country_code': 'fr'}\n"
     ]
    }
   ],
   "source": [
    "# get address from geolocation\n",
    "address = location.raw['address'] \n",
    "print(address)"
   ]
  },
  {
   "cell_type": "code",
   "execution_count": 32,
   "metadata": {},
   "outputs": [
    {
     "name": "stdout",
     "output_type": "stream",
     "text": [
      "City :  Paris\n",
      "State :  Île-de-France\n",
      "Country :  France\n",
      "Zip Code :  75004\n"
     ]
    }
   ],
   "source": [
    "# parsing\n",
    "city = address.get('city', '') \n",
    "state = address.get('state', '') \n",
    "country = address.get('country', '') \n",
    "code = address.get('country_code') \n",
    "zipcode = address.get('postcode') \n",
    "print('City : ',city) \n",
    "print('State : ',state) \n",
    "print('Country : ',country) \n",
    "print('Zip Code : ', zipcode) "
   ]
  },
  {
   "cell_type": "code",
   "execution_count": 47,
   "metadata": {},
   "outputs": [
    {
     "name": "stdout",
     "output_type": "stream",
     "text": [
      "Paris, Île-de-France, France métropolitaine, France\n",
      "Paris, Ile-de-France, Metropolitan France, France\n",
      "Paris, Île-de-France, Metropolitanes Frankreich, Frankreich\n"
     ]
    }
   ],
   "source": [
    "print(geolocator.geocode(\"paris\", language=\"fr\"))\n",
    "print(geolocator.geocode(\"paris\", language=\"en\"))\n",
    "print(geolocator.geocode(\"paris\", language=\"de\"))"
   ]
  },
  {
   "cell_type": "code",
   "execution_count": null,
   "metadata": {},
   "outputs": [],
   "source": []
  }
 ],
 "metadata": {
  "kernelspec": {
   "display_name": "Python 3",
   "language": "python",
   "name": "python3"
  },
  "language_info": {
   "codemirror_mode": {
    "name": "ipython",
    "version": 3
   },
   "file_extension": ".py",
   "mimetype": "text/x-python",
   "name": "python",
   "nbconvert_exporter": "python",
   "pygments_lexer": "ipython3",
   "version": "3.6.7"
  }
 },
 "nbformat": 4,
 "nbformat_minor": 2
}
